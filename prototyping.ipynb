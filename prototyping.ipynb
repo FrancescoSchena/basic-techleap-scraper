{
 "cells": [
  {
   "source": [
    "Imports"
   ],
   "cell_type": "markdown",
   "metadata": {}
  },
  {
   "cell_type": "code",
   "execution_count": 16,
   "metadata": {},
   "outputs": [],
   "source": [
    "import re\n",
    "from os import walk\n",
    "import os\n",
    "from urllib.request import urlopen\n",
    "from lxml import html\n",
    "from bs4 import BeautifulSoup\n",
    "from urllib.request import urlopen\n",
    "import urllib\n",
    "from multiprocessing.pool import ThreadPool"
   ]
  },
  {
   "source": [
    "Finding files"
   ],
   "cell_type": "markdown",
   "metadata": {}
  },
  {
   "cell_type": "code",
   "execution_count": 2,
   "metadata": {},
   "outputs": [
    {
     "output_type": "stream",
     "name": "stdout",
     "text": [
      "Analyzing 1 file:\n\tcomp220.txt\n"
     ]
    },
    {
     "output_type": "execute_result",
     "data": {
      "text/plain": [
       "[None]"
      ]
     },
     "metadata": {},
     "execution_count": 2
    }
   ],
   "source": [
    "# Looking for the files in the /data folder\n",
    "mypath = os.path.abspath(os.getcwd()) + \"/data\"\n",
    "ext = \"txt\"\n",
    "files = []\n",
    "for (dirpath, dirnames, filenames) in walk(mypath):\n",
    "    for file in filenames:\n",
    "        if file.split(\".\")[1] == ext:  # Only files with the right extension\n",
    "            files.append(file)\n",
    "    break\n",
    "if not files:  # if files is empty\n",
    "    raise Exception(\"Warning there are no files, check the path!\")\n",
    "    quit()  # no need to proceed\n",
    "\n",
    "s = \"\" if len(files) == 1 else \"s\"\n",
    "print(f\"Analyzing {len(files)} file{s}:\")\n",
    "[print(\"\\t\" + file) for file in files]"
   ]
  },
  {
   "source": [
    "Generating list of links from techleap"
   ],
   "cell_type": "markdown",
   "metadata": {}
  },
  {
   "cell_type": "code",
   "execution_count": 20,
   "metadata": {},
   "outputs": [
    {
     "output_type": "error",
     "ename": "IndentationError",
     "evalue": "unindent does not match any outer indentation level (<tokenize>, line 9)",
     "traceback": [
      "\u001b[0;36m  File \u001b[0;32m\"<tokenize>\"\u001b[0;36m, line \u001b[0;32m9\u001b[0m\n\u001b[0;31m    file.close()\u001b[0m\n\u001b[0m    ^\u001b[0m\n\u001b[0;31mIndentationError\u001b[0m\u001b[0;31m:\u001b[0m unindent does not match any outer indentation level\n"
     ]
    }
   ],
   "source": [
    "links = []\n",
    "\n",
    "for file in files:\n",
    "\tfile = open(f\"Data/{file}\", \"r\").read()\n",
    "\tfor i in [m.start() for m in re.finditer('href', file)]:\n",
    "\t\tclosingcommas = file[i : i+50].find(\">\")\n",
    "\t\tlink = file[i+6 : i+closingcommas-1]\n",
    "\t\tlinks.append(link)\n",
    "    file.close()"
   ]
  },
  {
   "source": [
    "Generating list of companies links"
   ],
   "cell_type": "markdown",
   "metadata": {}
  },
  {
   "cell_type": "code",
   "execution_count": 14,
   "metadata": {},
   "outputs": [
    {
     "output_type": "stream",
     "name": "stdout",
     "text": [
      "/companies/mx3d \t http://www.mx3d.com\n",
      "/companies/getmibo \t https://getmibo.com/\n",
      "/companies/protifarm \t https://protifarm.com/\n",
      "/companies/shypple \t http://www.shypple.com\n",
      "/companies/swipeguide \t http://www.swipeguide.com\n",
      "/companies/inuka \t http://inuka.io\n",
      "/companies/24sessions \t http://24sessions.com\n",
      "/companies/lavatherapeutics \t https://lavatherapeutics.com/\n",
      "/companies/leydenlabs \t http://www.leydenlabs.com\n",
      "/companies/bringly \t https://www.bringly.nl/\n",
      "/companies/roadmap \t http://www.getroadmap.com/\n",
      "/companies/clairify \t http://clairify.io\n",
      "/companies/lightyear \t https://www.lightyear.one/\n",
      "/companies/fangage \t http://www.fangage.com/\n",
      "/companies/hyzonmotors \t https://www.hyzonmotors.com/\n",
      "/companies/sonicbee \t https://www.sonicbee.nl/en/\n",
      "/companies/founda \t https://foundahealth.com/\n",
      "/companies/postoplan \t http://postoplan.app\n",
      "/companies/veylinx \t https://www.veylinx.com/\n",
      "/companies/katanox \t https://www.katanox.com\n",
      "/companies/felyx \t https://felyx.com/\n",
      "/companies/hubx \t https://hubx.capital/\n",
      "/companies/baqme \t http://baqme.com\n",
      "/companies/tripactions \t http://tripactions.com\n",
      "/companies/denoize \t https://www.denoize.com\n",
      "/companies/dockr \t https://www.dockrmobility.nl/nl/\n",
      "/companies/newamsterdampharma \t https://www.newamsterdampharma.com/\n",
      "/companies/redkubes \t http://redkubes.com\n",
      "/companies/axoniq \t https://axoniq.io/\n",
      "/companies/packaly \t https://packaly.com/\n",
      "/companies/omnigen \t http://www.omnigen.nl\n",
      "/companies/confocal \t https://www.confocal.nl/\n",
      "/companies/harbourbiomed \t http://www.harbourbiomed.com/\n",
      "/companies/cortexter \t https://www.cortexter.com\n",
      "/companies/biminibiotech \t https://biminibiotech.nl/\n",
      "/companies/targed \t https://www.targedbiopharmaceuticals.com\n",
      "/companies/satelligence \t https://satelligence.com/\n",
      "/companies/rodeo \t http://getrodeo.io\n",
      "/companies/mriguidance \t https://mriguidance.com/\n",
      "/companies/viteezy \t https://viteezy.nl\n",
      "/companies/weareeves \t https://weareeves.com/\n",
      "/companies/syncvr \t https://syncvr.tech\n",
      "/companies/medvice \t https://www.medvice.io/\n",
      "/companies/cloudcuddle \t https://cloudcuddle.com/\n",
      "/companies/codesandbox \t https://codesandbox.io\n",
      "/companies/designbro \t https://designbro.com\n",
      "/companies/zivver \t https://www.zivver.com\n",
      "/companies/verdify \t https://www.verdify.tech\n",
      "/companies/widgetbrain \t https://widgetbrain.com/\n",
      "/companies/biond \t http://www.gobiond.com/\n",
      "/companies/circularise \t http://www.circularise.com\n",
      "/companies/attendi \t https://www.attendi.nl/\n",
      "/companies/plotwise \t https://www.plotwise.com/\n",
      "/companies/medishell \t http://medishell.com/\n",
      "/companies/worksuite \t https://worksuite.nl/\n",
      "/companies/orderchamp \t https://www.orderchamp.com\n",
      "/companies/chaincargo \t https://www.chaincargo.eu/\n",
      "/companies/blockdata \t https://www.blockdata.tech\n",
      "/companies/scoozy \t http://www.scoozy.nl/\n",
      "/companies/overstory \t https://www.overstory.ai/\n",
      "/companies/flego \t http://www.flego.nl\n",
      "/companies/pharmaoffer \t https://pharmaoffer.com/\n",
      "/companies/siilo \t https://www.siilo.com/\n",
      "/companies/asobo \t https://goasobo.com/\n",
      "/companies/enzyre \t https://enzyre.com\n",
      "/companies/opensocial \t https://www.getopensocial.com\n",
      "/companies/ziel \t http://zielwear.com\n",
      "/companies/varmx \t http://www.varmx.com/\n",
      "/companies/citryll \t http://citryll.com/\n",
      "/companies/edgeimpulse \t https://edgeimpulse.com/\n",
      "/companies/oncochain \t https://www.oncochain.com/\n",
      "/companies/corporis \t http://corporis-medical.com/\n",
      "/companies/leadinfo \t https://www.leadinfo.com\n",
      "/companies/theydo \t https://www.theydo.io\n",
      "/companies/wordproof \t https://wordproof.io/\n",
      "/companies/gilberttechnologies \t https://www.gilberttechnologies.eu/\n"
     ]
    }
   ],
   "source": [
    "complinks = []\n",
    "nocomplinks = []\n",
    "for link in links:\n",
    "\turl = \"https://finder.techleap.nl\" + link\n",
    "\tpage = urlopen(url)\n",
    "\tsoup = BeautifulSoup(page, 'html.parser')\n",
    "\t\n",
    "\tlink = link.replace(\"_\", \"\")\n",
    "\tsave = True\n",
    "\thaslink = False\n",
    "\tfor href in soup.find_all('a'):\n",
    "\t\ttemplink = href.get('href')\n",
    "\t\tif link.split(\"/\")[2] in templink and \"http\" in templink:\n",
    "\t\t\tfor domain in [\"facebook\", \"google\", \"linkedin\", \"twitter\", \"apple\"]:\n",
    "\t\t\t\tif domain in templink:\n",
    "\t\t\t\t\tsave = False\n",
    "\t\t\tif save:\n",
    "\t\t\t\tprint(link, \"\\t\", templink)\n",
    "\t\t\t\tcomplinks.append(templink)\n",
    "\t\t\t\thaslink = True\n",
    "\tif not haslink:\n",
    "\t\tnocomplinks.append(link) "
   ]
  },
  {
   "cell_type": "code",
   "execution_count": 15,
   "metadata": {},
   "outputs": [
    {
     "output_type": "stream",
     "name": "stdout",
     "text": [
      "41 didn't have a link out of 117 companies\n"
     ]
    }
   ],
   "source": [
    "print(f\"{len(links) - len(complinks)} didn't have a link out of {len(links)} companies\")"
   ]
  },
  {
   "source": [
    "Searching for emails"
   ],
   "cell_type": "markdown",
   "metadata": {}
  },
  {
   "cell_type": "code",
   "execution_count": 10,
   "metadata": {},
   "outputs": [
    {
     "output_type": "stream",
     "name": "stdout",
     "text": [
      "http://www.mx3d.com \t info@mx3d.com\n",
      "http://www.mx3d.com \t press@mx3d.com\n",
      "http://www.shypple.com \t info@shypple.com\n",
      "http://www.swipeguide.com \t hello@swipeguide.com\n",
      "http://clairify.io \t felix@clairify.io\n",
      "http://clairify.io \t tibor@clairify.io\n",
      "http://clairify.io \t wim@clairify.io\n",
      "http://clairify.io \t info@clairify.io\n",
      "https://www.katanox.com \t hello@katanox.com\n",
      "http://baqme.com \t support@baqme.com\n",
      " * * * Error opening https://www.denoize.com\n",
      " * * * <urlopen error [SSL: TLSV1_ALERT_INTERNAL_ERROR] tlsv1 alert internal error (_ssl.c:1091)>\n",
      "https://www.targedbiopharmaceuticals.com \t info@targedbio.com\n",
      "http://getrodeo.io \t info@getrodeo.io\n",
      "http://www.flego.nl \t mathijs@flego.nl\n",
      "http://www.flego.nl \t info@flego.nl\n",
      "https://enzyre.com \t investors@enzyre.com\n",
      "https://enzyre.com \t info@enzyre.com\n",
      "http://zielwear.com \t email@address.com\n",
      "http://zielwear.com \t sayhi@zielwear.com\n",
      "https://www.leadinfo.com \t hello@leadinfo.com\n"
     ]
    }
   ],
   "source": [
    "compmails = {}\n",
    "for link in complinks:\n",
    "    try:\n",
    "        req = urllib.request.Request(link, headers={'User-Agent' : \"Magic Browser\"}) \n",
    "        con = urlopen(req)\n",
    "    except Exception as e:\n",
    "        print(f\" * * * Error opening {link}\")\n",
    "        print(\" * * * \" + str(e))\n",
    "\n",
    "    s = con.read().decode(\"utf-8\")\n",
    "    emails = re.findall(r\"[A-Za-z0-9._%+-]+@[A-Za-z0-9.-]+\\.[A-Za-z]{2,4}\", s)\n",
    "    newemails = list(set(emails))\n",
    "    compmails[link] = []\n",
    "    for mail in newemails:\n",
    "        if mail.split(\".\")[-1] == link.split(\".\")[-1] and \"%20\" not in mail:\n",
    "            compmails[link].append(mail)\n",
    "            print(link, \"\\t\", mail)"
   ]
  },
  {
   "cell_type": "code",
   "execution_count": 11,
   "metadata": {},
   "outputs": [
    {
     "output_type": "stream",
     "name": "stdout",
     "text": [
      "http://www.mx3d.com\n\tinfo@mx3d.com\n\tpress@mx3d.com\nhttp://www.shypple.com\n\tinfo@shypple.com\nhttp://www.swipeguide.com\n\thello@swipeguide.com\nhttp://inuka.io\nhttp://24sessions.com\nhttps://www.bringly.nl/\nhttp://www.getroadmap.com/\nhttp://clairify.io\n\tfelix@clairify.io\n\ttibor@clairify.io\n\twim@clairify.io\n\tinfo@clairify.io\nhttps://www.lightyear.one/\nhttp://www.fangage.com/\nhttps://www.sonicbee.nl/en/\nhttps://foundahealth.com/\nhttp://postoplan.app\nhttps://www.veylinx.com/\nhttps://www.katanox.com\n\thello@katanox.com\nhttps://felyx.com/\nhttp://baqme.com\n\tsupport@baqme.com\nhttp://tripactions.com\nhttps://www.denoize.com\nhttps://www.dockrmobility.nl/nl/\nhttps://axoniq.io/\nhttps://packaly.com/\nhttp://www.omnigen.nl\nhttps://www.confocal.nl/\nhttps://www.cortexter.com\nhttps://www.targedbiopharmaceuticals.com\n\tinfo@targedbio.com\nhttps://satelligence.com/\nhttp://getrodeo.io\n\tinfo@getrodeo.io\nhttps://mriguidance.com/\nhttps://viteezy.nl\nhttps://weareeves.com/\nhttps://syncvr.tech\nhttps://www.medvice.io/\nhttps://cloudcuddle.com/\nhttps://codesandbox.io\nhttps://designbro.com\nhttps://www.zivver.com\nhttps://www.verdify.tech\nhttp://www.gobiond.com/\nhttp://www.circularise.com\nhttps://www.attendi.nl/\nhttps://www.plotwise.com/\nhttps://worksuite.nl/\nhttps://www.orderchamp.com\nhttps://www.chaincargo.eu/\nhttps://www.blockdata.tech\nhttp://www.scoozy.nl/\nhttps://www.overstory.ai/\nhttp://www.flego.nl\n\tmathijs@flego.nl\n\tinfo@flego.nl\nhttps://pharmaoffer.com/\nhttps://www.siilo.com/\nhttps://goasobo.com/\nhttps://enzyre.com\n\tinvestors@enzyre.com\n\tinfo@enzyre.com\nhttp://zielwear.com\n\temail@address.com\n\tsayhi@zielwear.com\nhttp://www.varmx.com/\nhttp://citryll.com/\nhttps://www.oncochain.com/\nhttp://corporis-medical.com/\nhttps://www.leadinfo.com\n\thello@leadinfo.com\nhttps://www.theydo.io\nhttps://wordproof.io/\n"
     ]
    }
   ],
   "source": [
    "for i in compmails:\n",
    "    print(i)\n",
    "    [print(\"\\t\" + x) for x in compmails[i]]"
   ]
  },
  {
   "cell_type": "code",
   "execution_count": 17,
   "metadata": {},
   "outputs": [
    {
     "output_type": "stream",
     "name": "stdout",
     "text": [
      "/companies/qlayersbv\n/companies/kaminarimedicalbv\n/companies/carttech\n/companies/theselectionlabbv\n/companies/invisiblefood\n/companies/getstreamio\n/companies/semioticlabs\n/companies/spikemobility\n/companies/ellipsisdrive\n/companies/emagy\n/companies/lipocoatbv\n/companies/stilbv\n/companies/orangegames\n/companies/stack2\n/companies/evbiotech\n/companies/asthmawarebv\n/companies/stepmobility\n/companies/cooperapp\n/companies/praxasensebv\n/companies/ecgexcellence\n/companies/trunkrsbv\n/companies/amflow\n/companies/tretbox\n/companies/salviabioelectronics\n/companies/neogenetherapeutics\n/companies/semitechnologies\n/companies/eindhovenmedicalrobotics\n/companies/skyned\n/companies/hyzonmotorseurope\n/companies/skiniveholdingbv\n/companies/slamorthobv\n/companies/akthelhealthcare\n/companies/vicotherapeutics\n/companies/synthesisinstitute\n/companies/inocellsbv\n/companies/inicarehealthtechnology\n/companies/asyliadiagnostics\n/companies/hemoclearbv\n/companies/unilife\n/companies/actpluzbv\n/companies/surgeon\n"
     ]
    }
   ],
   "source": [
    "for i in nocomplinks:\n",
    "    print(i)"
   ]
  },
  {
   "cell_type": "code",
   "execution_count": null,
   "metadata": {},
   "outputs": [],
   "source": [
    "# Printing mails\n",
    "for i in compmails():\n",
    "\tprint(i)\n",
    "\t[print(\"\\t\" + x) for x in compmails[i]]"
   ]
  },
  {
   "cell_type": "code",
   "execution_count": null,
   "metadata": {},
   "outputs": [],
   "source": []
  }
 ],
 "metadata": {
  "kernelspec": {
   "name": "python379jvsc74a57bd0abba55e4805a7d2bc2832d977654c9a67c95aea4582413c2368a1dfa809968ab",
   "display_name": "Python 3.7.9 64-bit ('base': conda)"
  }
 },
 "nbformat": 4,
 "nbformat_minor": 5
}